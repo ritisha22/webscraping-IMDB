{
  "nbformat": 4,
  "nbformat_minor": 0,
  "metadata": {
    "colab": {
      "name": "Copy of web scraping",
      "provenance": [],
      "authorship_tag": "ABX9TyPCeM2tHyY23r+moqSq+OO+",
      "include_colab_link": true
    },
    "kernelspec": {
      "name": "python3",
      "display_name": "Python 3"
    },
    "language_info": {
      "name": "python"
    }
  },
  "cells": [
    {
      "cell_type": "markdown",
      "metadata": {
        "id": "view-in-github",
        "colab_type": "text"
      },
      "source": [
        "<a href=\"https://colab.research.google.com/github/ritisha22/webscraping-IMDB/blob/main/Copy_of_web_scraping.ipynb\" target=\"_parent\"><img src=\"https://colab.research.google.com/assets/colab-badge.svg\" alt=\"Open In Colab\"/></a>"
      ]
    },
    {
      "cell_type": "markdown",
      "source": [
        "# **WEB SCRAPING-IMDB RATING**\n",
        "\n",
        "![image.png](data:image/png;base64,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)"
      ],
      "metadata": {
        "id": "Fe1570fNGRvk"
      }
    },
    {
      "cell_type": "markdown",
      "source": [
        "#Installing the modules\n",
        "for the scraping we need to install two modules \n",
        "1.  requests \n",
        "2.  BeautifulSoup\n",
        "\n",
        "\n",
        "\n",
        "\n",
        "\n"
      ],
      "metadata": {
        "id": "19x1_E9Aed3F"
      }
    },
    {
      "cell_type": "code",
      "execution_count": null,
      "metadata": {
        "colab": {
          "base_uri": "https://localhost:8080/"
        },
        "id": "sAEckpL7DYGv",
        "outputId": "bdae5459-1926-4198-f159-14a4fa4865d9"
      },
      "outputs": [
        {
          "output_type": "stream",
          "name": "stdout",
          "text": [
            "Requirement already satisfied: requests in /usr/local/lib/python3.7/dist-packages (2.23.0)\n",
            "Requirement already satisfied: idna<3,>=2.5 in /usr/local/lib/python3.7/dist-packages (from requests) (2.10)\n",
            "Requirement already satisfied: certifi>=2017.4.17 in /usr/local/lib/python3.7/dist-packages (from requests) (2021.10.8)\n",
            "Requirement already satisfied: chardet<4,>=3.0.2 in /usr/local/lib/python3.7/dist-packages (from requests) (3.0.4)\n",
            "Requirement already satisfied: urllib3!=1.25.0,!=1.25.1,<1.26,>=1.21.1 in /usr/local/lib/python3.7/dist-packages (from requests) (1.24.3)\n"
          ]
        }
      ],
      "source": [
        "! pip install requests"
      ]
    },
    {
      "cell_type": "code",
      "source": [
        "! pip install bs4"
      ],
      "metadata": {
        "colab": {
          "base_uri": "https://localhost:8080/"
        },
        "id": "_iyTeIVNEHdg",
        "outputId": "23ae58f5-2672-4490-ef97-4bd499255461"
      },
      "execution_count": null,
      "outputs": [
        {
          "output_type": "stream",
          "name": "stdout",
          "text": [
            "Requirement already satisfied: bs4 in /usr/local/lib/python3.7/dist-packages (0.0.1)\n",
            "Requirement already satisfied: beautifulsoup4 in /usr/local/lib/python3.7/dist-packages (from bs4) (4.6.3)\n"
          ]
        }
      ]
    },
    {
      "cell_type": "markdown",
      "source": [
        "# Import the modules"
      ],
      "metadata": {
        "id": "ofQ-r78ygEck"
      }
    },
    {
      "cell_type": "code",
      "source": [
        "from bs4 import BeautifulSoup"
      ],
      "metadata": {
        "id": "Q6JL3G-NEXEz"
      },
      "execution_count": null,
      "outputs": []
    },
    {
      "cell_type": "code",
      "source": [
        "import requests"
      ],
      "metadata": {
        "id": "rr_SYrPKEeLW"
      },
      "execution_count": null,
      "outputs": []
    },
    {
      "cell_type": "markdown",
      "source": [
        "Firstly we need to access the website \n",
        "*   open the imdb website and copy the url\n",
        "*   Then use requests module to access the website\n",
        "*  This will give us a response object which will html source code of the perticular web page\n"
      ],
      "metadata": {
        "id": "zQDr1MCAgklR"
      }
    },
    {
      "cell_type": "markdown",
      "source": [
        " \n",
        "*   we need to parse the HTML \n",
        "*  we use 'html.parser' to access the html text\n",
        "*  we use BeautulSoup ,this will take the html content of the website.\n",
        "\n",
        "\n",
        "\n"
      ],
      "metadata": {
        "id": "MEhXKkRq_d-I"
      }
    },
    {
      "cell_type": "code",
      "source": [
        "try:\n",
        "    source=requests.get('https://www.imdb.com/chart/top/')\n",
        "    #use source.raise_for_status() for getting the error message whenever the url link will be wrong \n",
        "    source.raise_for_status()\n",
        "\n",
        "    soup=BeautifulSoup(source.text,'html.parser')\n",
        "    movies=soup.find('tbody',class_=\"lister-list\").find_all('tr')\n",
        "    for movie in movies:\n",
        "        \n",
        "        print(movie)\n",
        "        break\n",
        "except Exception as e:\n",
        "    print(e)\n"
      ],
      "metadata": {
        "colab": {
          "base_uri": "https://localhost:8080/"
        },
        "id": "bd2CJIEPEjKq",
        "outputId": "4bb95138-9c7b-42f5-ed28-af00b0880b9f"
      },
      "execution_count": null,
      "outputs": [
        {
          "output_type": "stream",
          "name": "stdout",
          "text": [
            "<tr>\n",
            "<td class=\"posterColumn\">\n",
            "<span data-value=\"1\" name=\"rk\"></span>\n",
            "<span data-value=\"9.239936172415353\" name=\"ir\"></span>\n",
            "<span data-value=\"7.791552E11\" name=\"us\"></span>\n",
            "<span data-value=\"2557157\" name=\"nv\"></span>\n",
            "<span data-value=\"-1.7600638275846467\" name=\"ur\"></span>\n",
            "<a href=\"/title/tt0111161/\"> <img alt=\"The Shawshank Redemption\" height=\"67\" src=\"https://m.media-amazon.com/images/M/MV5BMDFkYTc0MGEtZmNhMC00ZDIzLWFmNTEtODM1ZmRlYWMwMWFmXkEyXkFqcGdeQXVyMTMxODk2OTU@._V1_UY67_CR0,0,45,67_AL_.jpg\" width=\"45\"/>\n",
            "</a> </td>\n",
            "<td class=\"titleColumn\">\n",
            "      1.\n",
            "      <a href=\"/title/tt0111161/\" title=\"Frank Darabont (dir.), Tim Robbins, Morgan Freeman\">The Shawshank Redemption</a>\n",
            "<span class=\"secondaryInfo\">(1994)</span>\n",
            "</td>\n",
            "<td class=\"ratingColumn imdbRating\">\n",
            "<strong title=\"9.2 based on 2,557,157 user ratings\">9.2</strong>\n",
            "</td>\n",
            "<td class=\"ratingColumn\">\n",
            "<div class=\"seen-widget seen-widget-tt0111161 pending\" data-titleid=\"tt0111161\">\n",
            "<div class=\"boundary\">\n",
            "<div class=\"popover\">\n",
            "<span class=\"delete\"> </span><ol><li>1<li>2<li>3<li>4<li>5<li>6<li>7<li>8<li>9<li>10</li></li></li></li></li></li></li></li></li></li></ol> </div>\n",
            "</div>\n",
            "<div class=\"inline\">\n",
            "<div class=\"pending\"></div>\n",
            "<div class=\"unseeable\">NOT YET RELEASED</div>\n",
            "<div class=\"unseen\"> </div>\n",
            "<div class=\"rating\"></div>\n",
            "<div class=\"seen\">Seen</div>\n",
            "</div>\n",
            "</div>\n",
            "</td>\n",
            "<td class=\"watchlistColumn\">\n",
            "<div class=\"wlb_ribbon\" data-recordmetrics=\"true\" data-tconst=\"tt0111161\"></div>\n",
            "</td>\n",
            "</tr>\n"
          ]
        }
      ]
    },
    {
      "cell_type": "markdown",
      "source": [
        ""
      ],
      "metadata": {
        "id": "cPuwvFkUkoXt"
      }
    },
    {
      "cell_type": "code",
      "source": [
        "try:\n",
        "    source=requests.get('https://www.imdb.com/chart/top/')\n",
        "    source.raise_for_status()\n",
        "\n",
        "    soup=BeautifulSoup(source.text,'html.parser')\n",
        "    movies=soup.find('tbody',class_=\"lister-list\").find_all('tr')\n",
        "    \n",
        "    for movie in movies:\n",
        "        name=movie.find('td',class_=\"titleColumn\")\n",
        "        \n",
        "        print(name)\n",
        "        break\n",
        "except Exception as e:\n",
        "    print(e)"
      ],
      "metadata": {
        "colab": {
          "base_uri": "https://localhost:8080/"
        },
        "id": "HHkyoiBXEq8f",
        "outputId": "9dce9ff9-1082-4a9c-d2eb-7c587d9a2adc"
      },
      "execution_count": null,
      "outputs": [
        {
          "output_type": "stream",
          "name": "stdout",
          "text": [
            "<td class=\"titleColumn\">\n",
            "      1.\n",
            "      <a href=\"/title/tt0111161/\" title=\"Frank Darabont (dir.), Tim Robbins, Morgan Freeman\">The Shawshank Redemption</a>\n",
            "<span class=\"secondaryInfo\">(1994)</span>\n",
            "</td>\n"
          ]
        }
      ]
    },
    {
      "cell_type": "markdown",
      "source": [
        "\n",
        "##  Extracting the movie name"
      ],
      "metadata": {
        "id": "wfOupEF_Aear"
      }
    },
    {
      "cell_type": "code",
      "source": [
        "try:\n",
        "    source=requests.get('https://www.imdb.com/chart/top/')\n",
        "    source.raise_for_status()\n",
        "\n",
        "    soup=BeautifulSoup(source.text,'html.parser')\n",
        "    movies=soup.find('tbody',class_=\"lister-list\").find_all('tr')\n",
        "    \n",
        "    for movie in movies:\n",
        "        name=movie.find('td',class_=\"titleColumn\").a.text\n",
        "        \n",
        "        print(f' movie is {name}')\n",
        "        break\n",
        "except Exception as e:\n",
        "    print(e)"
      ],
      "metadata": {
        "colab": {
          "base_uri": "https://localhost:8080/"
        },
        "id": "5F_5Y1w2FMNJ",
        "outputId": "1ba1fa69-acf4-47ef-a9e6-92d2aeba9d1a"
      },
      "execution_count": null,
      "outputs": [
        {
          "output_type": "stream",
          "name": "stdout",
          "text": [
            " movie is The Shawshank Redemption\n"
          ]
        }
      ]
    },
    {
      "cell_type": "markdown",
      "source": [
        "## Extracting the Rank"
      ],
      "metadata": {
        "id": "zkWmlezNBGeL"
      }
    },
    {
      "cell_type": "code",
      "source": [
        "try:\n",
        "    source=requests.get('https://www.imdb.com/chart/top/')\n",
        "    source.raise_for_status()\n",
        "\n",
        "    soup=BeautifulSoup(source.text,'html.parser')\n",
        "    movies=soup.find('tbody',class_=\"lister-list\").find_all('tr')\n",
        "    \n",
        "    for movie in movies:\n",
        "        #name=movie.find('td',class_=\"titleColumn\").a.text\n",
        "        rank=movie.find('td',class_=\"titleColumn\").get_text(strip=True).split('.')[0]\n",
        "        print(f'Rank is {rank}')\n",
        "        break\n",
        "except Exception as e:\n",
        "    print(e)"
      ],
      "metadata": {
        "colab": {
          "base_uri": "https://localhost:8080/"
        },
        "id": "i8p8EAabFiU-",
        "outputId": "787860fd-4010-44ad-cfb1-cd0a6e32c647"
      },
      "execution_count": null,
      "outputs": [
        {
          "output_type": "stream",
          "name": "stdout",
          "text": [
            "Rank is 1\n"
          ]
        }
      ]
    },
    {
      "cell_type": "markdown",
      "source": [
        "## Extracting the year"
      ],
      "metadata": {
        "id": "RXJGAEQwBYnh"
      }
    },
    {
      "cell_type": "code",
      "source": [
        "try:\n",
        "    source=requests.get('https://www.imdb.com/chart/top/')\n",
        "    source.raise_for_status()\n",
        "\n",
        "    soup=BeautifulSoup(source.text,'html.parser')\n",
        "    movies=soup.find('tbody',class_=\"lister-list\").find_all('tr')\n",
        "    \n",
        "    for movie in movies:\n",
        "        #name=movie.find('td',class_=\"titleColumn\").a.text\n",
        "        #rank=movie.find('td',class_=\"titleColumn\").get_text(strip=True).split('.')[0]\n",
        "        year=movie.find('td',class_=\"titleColumn\").span.text.strip('()')\n",
        "        print(f'year is {year}')\n",
        "        #print(f'Rank is {rank}')\n",
        "        break\n",
        "except Exception as e:\n",
        "    print(e)"
      ],
      "metadata": {
        "colab": {
          "base_uri": "https://localhost:8080/"
        },
        "id": "2VTX7T1KFv2F",
        "outputId": "b6bfe0ee-1af3-4777-8619-3fc1fc04a184"
      },
      "execution_count": null,
      "outputs": [
        {
          "output_type": "stream",
          "name": "stdout",
          "text": [
            "year is 1994\n"
          ]
        }
      ]
    },
    {
      "cell_type": "markdown",
      "source": [
        "## Extracting the Rating"
      ],
      "metadata": {
        "id": "AkvlYaT_Bfu-"
      }
    },
    {
      "cell_type": "code",
      "source": [
        "try:\n",
        "    source=requests.get('https://www.imdb.com/chart/top/')\n",
        "    source.raise_for_status()\n",
        "\n",
        "    soup=BeautifulSoup(source.text,'html.parser')\n",
        "    movies=soup.find('tbody',class_=\"lister-list\").find_all('tr')\n",
        "    \n",
        "    for movie in movies:\n",
        "        #name=movie.find('td',class_=\"titleColumn\").a.text\n",
        "        #rank=movie.find('td',class_=\"titleColumn\").get_text(strip=True).split('.')[0]\n",
        "        #year=movie.find('td',class_=\"titleColumn\").span.text.strip('()')\n",
        "        rating=movie.find('td',class_=\"ratingColumn imdbRating\").strong.text\n",
        "        print(f'Rating is {rating}')\n",
        "        break\n",
        "except Exception as e:\n",
        "    print(e)"
      ],
      "metadata": {
        "colab": {
          "base_uri": "https://localhost:8080/"
        },
        "id": "FUoVFxdFF7Ik",
        "outputId": "4b42ccf8-2678-4609-dae4-66efb15be750"
      },
      "execution_count": null,
      "outputs": [
        {
          "output_type": "stream",
          "name": "stdout",
          "text": [
            "Rating is 9.2\n"
          ]
        }
      ]
    },
    {
      "cell_type": "markdown",
      "source": [
        "Now remove the break and print the variables"
      ],
      "metadata": {
        "id": "wQDG6Ax5BrT-"
      }
    },
    {
      "cell_type": "code",
      "source": [
        "try:\n",
        "    source=requests.get('https://www.imdb.com/chart/top/')\n",
        "    source.raise_for_status()\n",
        "\n",
        "    soup=BeautifulSoup(source.text,'html.parser')\n",
        "    movies=soup.find('tbody',class_=\"lister-list\").find_all('tr')\n",
        "    \n",
        "    for movie in movies:\n",
        "        name=movie.find('td',class_=\"titleColumn\").a.text\n",
        "        rank=movie.find('td',class_=\"titleColumn\").get_text(strip=True).split('.')[0]\n",
        "        year=movie.find('td',class_=\"titleColumn\").span.text.strip('()')\n",
        "        rating=movie.find('td',class_=\"ratingColumn imdbRating\").strong.text\n",
        "        print(f'Movie {name},Rank  {rank},year  {year},rating  {rating}')\n",
        "        \n",
        "except Exception as e:\n",
        "    print(e)"
      ],
      "metadata": {
        "colab": {
          "base_uri": "https://localhost:8080/"
        },
        "id": "TPbQb6AvGD48",
        "outputId": "648b4568-ec8a-4f2e-801e-ef9aa23a97a5"
      },
      "execution_count": null,
      "outputs": [
        {
          "output_type": "stream",
          "name": "stdout",
          "text": [
            "Movie The Shawshank Redemption,Rank  1,year  1994,rating  9.2\n",
            "Movie The Godfather,Rank  2,year  1972,rating  9.2\n",
            "Movie The Dark Knight,Rank  3,year  2008,rating  9.0\n",
            "Movie The Godfather: Part II,Rank  4,year  1974,rating  9.0\n",
            "Movie 12 Angry Men,Rank  5,year  1957,rating  9.0\n",
            "Movie Schindler's List,Rank  6,year  1993,rating  8.9\n",
            "Movie The Lord of the Rings: The Return of the King,Rank  7,year  2003,rating  8.9\n",
            "Movie Pulp Fiction,Rank  8,year  1994,rating  8.9\n",
            "Movie The Lord of the Rings: The Fellowship of the Ring,Rank  9,year  2001,rating  8.8\n",
            "Movie The Good, the Bad and the Ugly,Rank  10,year  1966,rating  8.8\n",
            "Movie Forrest Gump,Rank  11,year  1994,rating  8.8\n",
            "Movie Fight Club,Rank  12,year  1999,rating  8.8\n",
            "Movie Inception,Rank  13,year  2010,rating  8.7\n",
            "Movie The Lord of the Rings: The Two Towers,Rank  14,year  2002,rating  8.7\n",
            "Movie Star Wars: Episode V - The Empire Strikes Back,Rank  15,year  1980,rating  8.7\n",
            "Movie The Matrix,Rank  16,year  1999,rating  8.7\n",
            "Movie Goodfellas,Rank  17,year  1990,rating  8.7\n",
            "Movie One Flew Over the Cuckoo's Nest,Rank  18,year  1975,rating  8.6\n",
            "Movie Se7en,Rank  19,year  1995,rating  8.6\n",
            "Movie Seven Samurai,Rank  20,year  1954,rating  8.6\n",
            "Movie It's a Wonderful Life,Rank  21,year  1946,rating  8.6\n",
            "Movie The Silence of the Lambs,Rank  22,year  1991,rating  8.6\n",
            "Movie Saving Private Ryan,Rank  23,year  1998,rating  8.6\n",
            "Movie City of God,Rank  24,year  2002,rating  8.6\n",
            "Movie Life Is Beautiful,Rank  25,year  1997,rating  8.6\n",
            "Movie The Green Mile,Rank  26,year  1999,rating  8.6\n",
            "Movie Star Wars,Rank  27,year  1977,rating  8.6\n",
            "Movie Interstellar,Rank  28,year  2014,rating  8.6\n",
            "Movie Terminator 2: Judgment Day,Rank  29,year  1991,rating  8.5\n",
            "Movie Back to the Future,Rank  30,year  1985,rating  8.5\n",
            "Movie Spirited Away,Rank  31,year  2001,rating  8.5\n",
            "Movie Psycho,Rank  32,year  1960,rating  8.5\n",
            "Movie Léon: The Professional,Rank  33,year  1994,rating  8.5\n",
            "Movie The Pianist,Rank  34,year  2002,rating  8.5\n",
            "Movie Parasite,Rank  35,year  2019,rating  8.5\n",
            "Movie The Lion King,Rank  36,year  1994,rating  8.5\n",
            "Movie Gladiator,Rank  37,year  2000,rating  8.5\n",
            "Movie American History X,Rank  38,year  1998,rating  8.5\n",
            "Movie The Usual Suspects,Rank  39,year  1995,rating  8.5\n",
            "Movie The Departed,Rank  40,year  2006,rating  8.5\n",
            "Movie The Prestige,Rank  41,year  2006,rating  8.5\n",
            "Movie Casablanca,Rank  42,year  1942,rating  8.5\n",
            "Movie Spider-Man: No Way Home,Rank  43,year  2021,rating  8.5\n",
            "Movie Whiplash,Rank  44,year  2014,rating  8.5\n",
            "Movie The Intouchables,Rank  45,year  2011,rating  8.5\n",
            "Movie Modern Times,Rank  46,year  1936,rating  8.5\n",
            "Movie Once Upon a Time in the West,Rank  47,year  1968,rating  8.5\n",
            "Movie Hara-Kiri,Rank  48,year  1962,rating  8.5\n",
            "Movie Grave of the Fireflies,Rank  49,year  1988,rating  8.5\n",
            "Movie Alien,Rank  50,year  1979,rating  8.4\n",
            "Movie Rear Window,Rank  51,year  1954,rating  8.4\n",
            "Movie City Lights,Rank  52,year  1931,rating  8.4\n",
            "Movie Memento,Rank  53,year  2000,rating  8.4\n",
            "Movie Apocalypse Now,Rank  54,year  1979,rating  8.4\n",
            "Movie Cinema Paradiso,Rank  55,year  1988,rating  8.4\n",
            "Movie Indiana Jones and the Raiders of the Lost Ark,Rank  56,year  1981,rating  8.4\n",
            "Movie Django Unchained,Rank  57,year  2012,rating  8.4\n",
            "Movie WALL·E,Rank  58,year  2008,rating  8.4\n",
            "Movie The Lives of Others,Rank  59,year  2006,rating  8.4\n",
            "Movie Sunset Blvd.,Rank  60,year  1950,rating  8.4\n",
            "Movie The Shining,Rank  61,year  1980,rating  8.4\n",
            "Movie Paths of Glory,Rank  62,year  1957,rating  8.4\n",
            "Movie The Great Dictator,Rank  63,year  1940,rating  8.4\n",
            "Movie Avengers: Infinity War,Rank  64,year  2018,rating  8.4\n",
            "Movie Witness for the Prosecution,Rank  65,year  1957,rating  8.4\n",
            "Movie Aliens,Rank  66,year  1986,rating  8.4\n",
            "Movie American Beauty,Rank  67,year  1999,rating  8.3\n",
            "Movie The Dark Knight Rises,Rank  68,year  2012,rating  8.3\n",
            "Movie Dr. Strangelove or: How I Learned to Stop Worrying and Love the Bomb,Rank  69,year  1964,rating  8.3\n",
            "Movie Joker,Rank  70,year  2019,rating  8.3\n",
            "Movie Spider-Man: Into the Spider-Verse,Rank  71,year  2018,rating  8.3\n",
            "Movie Old Boy,Rank  72,year  2003,rating  8.3\n",
            "Movie Braveheart,Rank  73,year  1995,rating  8.3\n",
            "Movie Toy Story,Rank  74,year  1995,rating  8.3\n",
            "Movie Amadeus,Rank  75,year  1984,rating  8.3\n",
            "Movie Coco,Rank  76,year  2017,rating  8.3\n",
            "Movie Inglourious Basterds,Rank  77,year  2009,rating  8.3\n",
            "Movie The Boat,Rank  78,year  1981,rating  8.3\n",
            "Movie Avengers: Endgame,Rank  79,year  2019,rating  8.3\n",
            "Movie Princess Mononoke,Rank  80,year  1997,rating  8.3\n",
            "Movie Once Upon a Time in America,Rank  81,year  1984,rating  8.3\n",
            "Movie Good Will Hunting,Rank  82,year  1997,rating  8.3\n",
            "Movie The Batman,Rank  83,year  2022,rating  8.3\n",
            "Movie Toy Story 3,Rank  84,year  2010,rating  8.3\n",
            "Movie Requiem for a Dream,Rank  85,year  2000,rating  8.3\n",
            "Movie 3 Idiots,Rank  86,year  2009,rating  8.3\n",
            "Movie Your Name.,Rank  87,year  2016,rating  8.3\n",
            "Movie Singin' in the Rain,Rank  88,year  1952,rating  8.3\n",
            "Movie Star Wars: Episode VI - Return of the Jedi,Rank  89,year  1983,rating  8.3\n",
            "Movie Reservoir Dogs,Rank  90,year  1992,rating  8.3\n",
            "Movie Eternal Sunshine of the Spotless Mind,Rank  91,year  2004,rating  8.3\n",
            "Movie 2001: A Space Odyssey,Rank  92,year  1968,rating  8.3\n",
            "Movie Citizen Kane,Rank  93,year  1941,rating  8.3\n",
            "Movie High and Low,Rank  94,year  1963,rating  8.3\n",
            "Movie Lawrence of Arabia,Rank  95,year  1962,rating  8.3\n",
            "Movie M,Rank  96,year  1931,rating  8.3\n",
            "Movie Capernaum,Rank  97,year  2018,rating  8.3\n",
            "Movie North by Northwest,Rank  98,year  1959,rating  8.3\n",
            "Movie The Hunt,Rank  99,year  2012,rating  8.3\n",
            "Movie Vertigo,Rank  100,year  1958,rating  8.3\n",
            "Movie Amélie,Rank  101,year  2001,rating  8.3\n",
            "Movie A Clockwork Orange,Rank  102,year  1971,rating  8.3\n",
            "Movie Full Metal Jacket,Rank  103,year  1987,rating  8.2\n",
            "Movie Scarface,Rank  104,year  1983,rating  8.2\n",
            "Movie Double Indemnity,Rank  105,year  1944,rating  8.2\n",
            "Movie Come and See,Rank  106,year  1985,rating  8.2\n",
            "Movie The Apartment,Rank  107,year  1960,rating  8.2\n",
            "Movie Taxi Driver,Rank  108,year  1976,rating  8.2\n",
            "Movie To Kill a Mockingbird,Rank  109,year  1962,rating  8.2\n",
            "Movie The Sting,Rank  110,year  1973,rating  8.2\n",
            "Movie Hamilton,Rank  111,year  2020,rating  8.2\n",
            "Movie Up,Rank  112,year  2009,rating  8.2\n",
            "Movie L.A. Confidential,Rank  113,year  1997,rating  8.2\n",
            "Movie Heat,Rank  114,year  1995,rating  8.2\n",
            "Movie Ikiru,Rank  115,year  1952,rating  8.2\n",
            "Movie Snatch,Rank  116,year  2000,rating  8.2\n",
            "Movie Die Hard,Rank  117,year  1988,rating  8.2\n",
            "Movie Indiana Jones and the Last Crusade,Rank  118,year  1989,rating  8.2\n",
            "Movie A Separation,Rank  119,year  2011,rating  8.2\n",
            "Movie Metropolis,Rank  120,year  1927,rating  8.2\n",
            "Movie Bicycle Thieves,Rank  121,year  1948,rating  8.2\n",
            "Movie Incendies,Rank  122,year  2010,rating  8.2\n",
            "Movie 1917,Rank  123,year  2019,rating  8.2\n",
            "Movie Like Stars on Earth,Rank  124,year  2007,rating  8.2\n",
            "Movie Batman Begins,Rank  125,year  2005,rating  8.2\n",
            "Movie For a Few Dollars More,Rank  126,year  1965,rating  8.2\n",
            "Movie Dangal,Rank  127,year  2016,rating  8.2\n",
            "Movie Downfall,Rank  128,year  2004,rating  8.2\n",
            "Movie The Kid,Rank  129,year  1921,rating  8.2\n",
            "Movie Some Like It Hot,Rank  130,year  1959,rating  8.2\n",
            "Movie The Father,Rank  131,year  2020,rating  8.2\n",
            "Movie All About Eve,Rank  132,year  1950,rating  8.2\n",
            "Movie Green Book,Rank  133,year  2018,rating  8.2\n",
            "Movie The Wolf of Wall Street,Rank  134,year  2013,rating  8.2\n",
            "Movie Unforgiven,Rank  135,year  1992,rating  8.2\n",
            "Movie Casino,Rank  136,year  1995,rating  8.2\n",
            "Movie Pan's Labyrinth,Rank  137,year  2006,rating  8.2\n",
            "Movie Judgment at Nuremberg,Rank  138,year  1961,rating  8.2\n",
            "Movie Ran,Rank  139,year  1985,rating  8.2\n",
            "Movie A Beautiful Mind,Rank  140,year  2001,rating  8.2\n",
            "Movie The Sixth Sense,Rank  141,year  1999,rating  8.2\n",
            "Movie Monty Python and the Holy Grail,Rank  142,year  1975,rating  8.2\n",
            "Movie There Will Be Blood,Rank  143,year  2007,rating  8.2\n",
            "Movie The Truman Show,Rank  144,year  1998,rating  8.2\n",
            "Movie Yojimbo,Rank  145,year  1961,rating  8.2\n",
            "Movie The Treasure of the Sierra Madre,Rank  146,year  1948,rating  8.2\n",
            "Movie Shutter Island,Rank  147,year  2010,rating  8.2\n",
            "Movie The Great Escape,Rank  148,year  1963,rating  8.2\n",
            "Movie Rashomon,Rank  149,year  1950,rating  8.1\n",
            "Movie Jurassic Park,Rank  150,year  1993,rating  8.1\n",
            "Movie Kill Bill: Vol. 1,Rank  151,year  2003,rating  8.1\n",
            "Movie Finding Nemo,Rank  152,year  2003,rating  8.1\n",
            "Movie No Country for Old Men,Rank  153,year  2007,rating  8.1\n",
            "Movie Raging Bull,Rank  154,year  1980,rating  8.1\n",
            "Movie The Elephant Man,Rank  155,year  1980,rating  8.1\n",
            "Movie V for Vendetta,Rank  156,year  2005,rating  8.1\n",
            "Movie Gone with the Wind,Rank  157,year  1939,rating  8.1\n",
            "Movie Chinatown,Rank  158,year  1974,rating  8.1\n",
            "Movie Inside Out,Rank  159,year  2015,rating  8.1\n",
            "Movie Lock, Stock and Two Smoking Barrels,Rank  160,year  1998,rating  8.1\n",
            "Movie The Thing,Rank  161,year  1982,rating  8.1\n",
            "Movie Dial M for Murder,Rank  162,year  1954,rating  8.1\n",
            "Movie The Secret in Their Eyes,Rank  163,year  2009,rating  8.1\n",
            "Movie Howl's Moving Castle,Rank  164,year  2004,rating  8.1\n",
            "Movie The Bridge on the River Kwai,Rank  165,year  1957,rating  8.1\n",
            "Movie Trainspotting,Rank  166,year  1996,rating  8.1\n",
            "Movie Three Billboards Outside Ebbing, Missouri,Rank  167,year  2017,rating  8.1\n",
            "Movie Warrior,Rank  168,year  2011,rating  8.1\n",
            "Movie Gran Torino,Rank  169,year  2008,rating  8.1\n",
            "Movie Fargo,Rank  170,year  1996,rating  8.1\n",
            "Movie My Neighbor Totoro,Rank  171,year  1988,rating  8.1\n",
            "Movie Prisoners,Rank  172,year  2013,rating  8.1\n",
            "Movie Million Dollar Baby,Rank  173,year  2004,rating  8.1\n",
            "Movie Blade Runner,Rank  174,year  1982,rating  8.1\n",
            "Movie The Gold Rush,Rank  175,year  1925,rating  8.1\n",
            "Movie Catch Me If You Can,Rank  176,year  2002,rating  8.1\n",
            "Movie On the Waterfront,Rank  177,year  1954,rating  8.1\n",
            "Movie Children of Heaven,Rank  178,year  1997,rating  8.1\n",
            "Movie Harry Potter and the Deathly Hallows: Part 2,Rank  179,year  2011,rating  8.1\n",
            "Movie The Third Man,Rank  180,year  1949,rating  8.1\n",
            "Movie Gone Girl,Rank  181,year  2014,rating  8.1\n",
            "Movie Ben-Hur,Rank  182,year  1959,rating  8.1\n",
            "Movie 12 Years a Slave,Rank  183,year  2013,rating  8.1\n",
            "Movie The General,Rank  184,year  1926,rating  8.1\n",
            "Movie The Deer Hunter,Rank  185,year  1978,rating  8.1\n",
            "Movie Wild Strawberries,Rank  186,year  1957,rating  8.1\n",
            "Movie Before Sunrise,Rank  187,year  1995,rating  8.1\n",
            "Movie In the Name of the Father,Rank  188,year  1993,rating  8.1\n",
            "Movie Pather Panchali,Rank  189,year  1955,rating  8.1\n",
            "Movie Mr. Smith Goes to Washington,Rank  190,year  1939,rating  8.1\n",
            "Movie The Grand Budapest Hotel,Rank  191,year  2014,rating  8.1\n",
            "Movie Room,Rank  192,year  2015,rating  8.1\n",
            "Movie Sherlock Jr.,Rank  193,year  1924,rating  8.1\n",
            "Movie Hacksaw Ridge,Rank  194,year  2016,rating  8.1\n",
            "Movie How to Train Your Dragon,Rank  195,year  2010,rating  8.1\n",
            "Movie Memories of Murder,Rank  196,year  2003,rating  8.1\n",
            "Movie The Wages of Fear,Rank  197,year  1953,rating  8.1\n",
            "Movie The Seventh Seal,Rank  198,year  1957,rating  8.1\n",
            "Movie Barry Lyndon,Rank  199,year  1975,rating  8.1\n",
            "Movie Klaus,Rank  200,year  2019,rating  8.1\n",
            "Movie The Big Lebowski,Rank  201,year  1998,rating  8.1\n",
            "Movie Mad Max: Fury Road,Rank  202,year  2015,rating  8.1\n",
            "Movie Wild Tales,Rank  203,year  2014,rating  8.1\n",
            "Movie Monsters, Inc.,Rank  204,year  2001,rating  8.1\n",
            "Movie Mary and Max,Rank  205,year  2009,rating  8.1\n",
            "Movie Jaws,Rank  206,year  1975,rating  8.1\n",
            "Movie The Passion of Joan of Arc,Rank  207,year  1928,rating  8.1\n",
            "Movie Hotel Rwanda,Rank  208,year  2004,rating  8.1\n",
            "Movie Rocky,Rank  209,year  1976,rating  8.1\n",
            "Movie Dead Poets Society,Rank  210,year  1989,rating  8.1\n",
            "Movie Tokyo Story,Rank  211,year  1953,rating  8.1\n",
            "Movie Platoon,Rank  212,year  1986,rating  8.1\n",
            "Movie Ford v Ferrari,Rank  213,year  2019,rating  8.1\n",
            "Movie The Terminator,Rank  214,year  1984,rating  8.1\n",
            "Movie Stand by Me,Rank  215,year  1986,rating  8.1\n",
            "Movie Rush,Rank  216,year  2013,rating  8.0\n",
            "Movie Into the Wild,Rank  217,year  2007,rating  8.0\n",
            "Movie The Wizard of Oz,Rank  218,year  1939,rating  8.0\n",
            "Movie Logan,Rank  219,year  2017,rating  8.0\n",
            "Movie Spotlight,Rank  220,year  2015,rating  8.0\n",
            "Movie Network,Rank  221,year  1976,rating  8.0\n",
            "Movie Groundhog Day,Rank  222,year  1993,rating  8.0\n",
            "Movie The Exorcist,Rank  223,year  1973,rating  8.0\n",
            "Movie Ratatouille,Rank  224,year  2007,rating  8.0\n",
            "Movie Hachi: A Dog's Tale,Rank  225,year  2009,rating  8.0\n",
            "Movie The Incredibles,Rank  226,year  2004,rating  8.0\n",
            "Movie Dersu Uzala,Rank  227,year  1975,rating  8.0\n",
            "Movie The Best Years of Our Lives,Rank  228,year  1946,rating  8.0\n",
            "Movie Before Sunset,Rank  229,year  2004,rating  8.0\n",
            "Movie Rebecca,Rank  230,year  1940,rating  8.0\n",
            "Movie My Father and My Son,Rank  231,year  2005,rating  8.0\n",
            "Movie The Grapes of Wrath,Rank  232,year  1940,rating  8.0\n",
            "Movie Dune,Rank  233,year  2021,rating  8.0\n",
            "Movie Cool Hand Luke,Rank  234,year  1967,rating  8.0\n",
            "Movie To Be or Not to Be,Rank  235,year  1942,rating  8.0\n",
            "Movie Pirates of the Caribbean: The Curse of the Black Pearl,Rank  236,year  2003,rating  8.0\n",
            "Movie Amores perros,Rank  237,year  2000,rating  8.0\n",
            "Movie The Battle of Algiers,Rank  238,year  1966,rating  8.0\n",
            "Movie The Sound of Music,Rank  239,year  1965,rating  8.0\n",
            "Movie Life of Brian,Rank  240,year  1979,rating  8.0\n",
            "Movie The 400 Blows,Rank  241,year  1959,rating  8.0\n",
            "Movie Persona,Rank  242,year  1966,rating  8.0\n",
            "Movie It Happened One Night,Rank  243,year  1934,rating  8.0\n",
            "Movie La Haine,Rank  244,year  1995,rating  8.0\n",
            "Movie Aladdin,Rank  245,year  1992,rating  8.0\n",
            "Movie Jai Bhim,Rank  246,year  2021,rating  8.0\n",
            "Movie Beauty and the Beast,Rank  247,year  1991,rating  8.0\n",
            "Movie Gandhi,Rank  248,year  1982,rating  8.0\n",
            "Movie The Help,Rank  249,year  2011,rating  8.0\n",
            "Movie The Handmaiden,Rank  250,year  2016,rating  8.0\n"
          ]
        }
      ]
    },
    {
      "cell_type": "markdown",
      "source": [
        "### Here is all the details of top 250 moovies from  IMDB website \n",
        "we sucessfully extract all the informations\n"
      ],
      "metadata": {
        "id": "Vgw-vOi5B3pR"
      }
    },
    {
      "cell_type": "code",
      "source": [
        ""
      ],
      "metadata": {
        "id": "zmhxqGI_CZWt"
      },
      "execution_count": null,
      "outputs": []
    }
  ]
}